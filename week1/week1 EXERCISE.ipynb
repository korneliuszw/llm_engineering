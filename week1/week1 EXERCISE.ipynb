{
 "cells": [
  {
   "cell_type": "markdown",
   "id": "fe12c203-e6a6-452c-a655-afb8a03a4ff5",
   "metadata": {},
   "source": [
    "# End of week 1 exercise\n",
    "\n",
    "To demonstrate your familiarity with OpenAI API, and also Ollama, build a tool that takes a technical question,  \n",
    "and responds with an explanation. This is a tool that you will be able to use yourself during the course!"
   ]
  },
  {
   "cell_type": "code",
   "execution_count": 26,
   "id": "c1070317-3ed9-4659-abe3-828943230e03",
   "metadata": {},
   "outputs": [],
   "source": [
    "# imports\n",
    "from openai import OpenAI\n",
    "from dotenv import load_dotenv\n",
    "from IPython.display import display, Markdown, update_display\n",
    "import os"
   ]
  },
  {
   "cell_type": "code",
   "execution_count": 5,
   "id": "4a456906-915a-4bfd-bb9d-57e505c5093f",
   "metadata": {},
   "outputs": [],
   "source": [
    "# constants\n",
    "\n",
    "MODEL_GPT = 'gpt-4o-mini'\n",
    "MODEL_OLLAMA = 'qwen3:8b'"
   ]
  },
  {
   "cell_type": "code",
   "execution_count": 17,
   "id": "a8d7923c-5f28-4c30-8556-342d7c8497c1",
   "metadata": {},
   "outputs": [
    {
     "name": "stdout",
     "output_type": "stream",
     "text": [
      "API key looks good so far\n"
     ]
    }
   ],
   "source": [
    "# set up environment\n",
    "load_dotenv(override=True)\n",
    "api_key = os.getenv('OPENAI_API_KEY')\n",
    "\n",
    "if api_key and api_key.startswith('sk-proj-') and len(api_key)>10:\n",
    "    print(\"API key looks good so far\")\n",
    "else:\n",
    "    print(\"There might be a problem with your API key? Please visit the troubleshooting notebook!\")\n",
    "    \n",
    "MODEL = 'gpt-4o-mini'\n",
    "openai = OpenAI()\n",
    "ollama = OpenAI(base_url='http://localhost:11434/v1', api_key='ollama')"
   ]
  },
  {
   "cell_type": "code",
   "execution_count": 35,
   "id": "d50afd30-a8bf-4598-b8e3-e2d8beaf3a4c",
   "metadata": {},
   "outputs": [],
   "source": [
    "def build_prompt(question):\n",
    "    user_prompt = \"Answer the question:\\n\\n\"\n",
    "    user_prompt+=question\n",
    "    return [\n",
    "        { \"role\": \"system\", \"content\": \"You are a tech wizard. Take questions from your apprentice and provide deep but easy to understand explanations for questions in markdown format. Be a good teacher. /no_think\"},\n",
    "        { \"role\": \"user\", \"content\": user_prompt }\n",
    "    ]\n"
   ]
  },
  {
   "cell_type": "code",
   "execution_count": 44,
   "id": "60ce7000-a4a5-4cce-a261-e75ef45063b4",
   "metadata": {},
   "outputs": [],
   "source": [
    "# Get gpt-4o-mini to answer, with streaming\n",
    "def ask_ai(question, instance, model, name):\n",
    "    stream = instance.chat.completions.create(\n",
    "        model=model,\n",
    "        messages=build_prompt(question),\n",
    "        stream=True\n",
    "    )\n",
    "    response = f\"# {name}\\n\\n\"\n",
    "    handle = display(Markdown(response), display_id=True)\n",
    "    for chunk in stream:\n",
    "        response += chunk.choices[0].delta.content or ''\n",
    "        response = response.replace(\"```\",\"\").replace(\"markdown\", \"\")\n",
    "        update_display(Markdown(response), display_id=handle.display_id)\n",
    "    return response\n",
    "    \n",
    "def ask_gpt(question):\n",
    "    return ask_ai(question, openai, MODEL_GPT, \"OpenAI\")"
   ]
  },
  {
   "cell_type": "code",
   "execution_count": 45,
   "id": "8f7c8ea8-4082-4ad0-8751-3301adcf6538",
   "metadata": {},
   "outputs": [],
   "source": [
    "# Get Llama 3.2 to answer\n",
    "def ask_ollama(question):\n",
    "    return ask_ai(question, ollama, MODEL_OLLAMA, \"OLLAMA\")"
   ]
  },
  {
   "cell_type": "code",
   "execution_count": 42,
   "id": "3f0d0137-52b0-47a8-81a8-11a90a010798",
   "metadata": {},
   "outputs": [],
   "source": [
    "# here is the question; type over this to ask something new\n",
    "\n",
    "question = \"\"\"\n",
    "Please explain what this code does and why:\n",
    "yield from {book.get(\"author\") for book in books if book.get(\"author\")}\n",
    "\"\"\""
   ]
  },
  {
   "cell_type": "code",
   "execution_count": 47,
   "id": "7c4204bf-fe31-45fb-aa89-9ecde7c34ece",
   "metadata": {},
   "outputs": [
    {
     "data": {
      "text/markdown": [
       "# OLLAMA\n",
       "\n",
       "<think>\n",
       "\n",
       "</think>\n",
       "\n",
       "Sure! Let's take a look at this Python code:\n",
       "\n",
       "python\n",
       "yield from {book.get(\"author\") for book in books if book.get(\"author\")}\n",
       "\n",
       "\n",
       "### ✅ Step-by-step explanation:\n",
       "\n",
       "---\n",
       "\n",
       "### 1. **`books` is a list of dictionaries**  \n",
       "Assume `books` is a list of book dictionaries, like this:\n",
       "\n",
       "python\n",
       "books = [\n",
       "    {\"title\": \"Book 1\", \"author\": \"Author A\"},\n",
       "    {\"title\": \"Book 2\", \"author\": \"Author B\"},\n",
       "    {\"title\": \"Book 3\", \"author\": \"Author A\"},\n",
       "    {\"title\": \"Book 4\", \"author\": None},  # This book has no author\n",
       "]\n",
       "\n",
       "\n",
       "---\n",
       "\n",
       "### 2. **`book.get(\"author\")`**  \n",
       "This is a dictionary method that retrieves the value associated with the key `\"author\"` in each book dictionary. If the key doesn't exist or the value is `None`, `get` returns `None` by default.\n",
       "\n",
       "So, for each book in `books`, this line gets the author.\n",
       "\n",
       "---\n",
       "\n",
       "### 3. **`if book.get(\"author\")`**  \n",
       "This is a conditional that ensures we only include authors who are **not** `None`. So, books without an author (like the fourth one in our example) are **filtered out**.\n",
       "\n",
       "So, we're only considering books that have a valid author.\n",
       "\n",
       "---\n",
       "\n",
       "### 4. **`{book.get(\"author\") for book in books if book.get(\"author\")}`**  \n",
       "This is a **set comprehension**. It builds a **set** of author names. A set is a collection that doesn't allow duplicates. So, if multiple books share the same author, they will appear only once in the set.\n",
       "\n",
       "This line is doing:\n",
       "- Iterate through each book in `books`\n",
       "- For each book, get the author\n",
       "- Filter out books with no author\n",
       "- Collect the unique author names in a set\n",
       "\n",
       "Example result from the `books` list above:\n",
       "python\n",
       "{\"Author A\", \"Author B\"}\n",
       "\n",
       "\n",
       "---\n",
       "\n",
       "### 5. **`yield from`**  \n",
       "This is a generator expression. The `yield from` syntax is used to **delegate iteration**. It allows the outer loop or function to yield values from the inner generator.\n",
       "\n",
       "In this context, the `yield from` is used to **iterate over the set of unique authors** and **yield each one** as a result.\n",
       "\n",
       "So, the full line:\n",
       "\n",
       "python\n",
       "yield from {book.get(\"author\") for book in books if book.get(\"author\")}\n",
       "\n",
       "\n",
       "is equivalent to:\n",
       "\n",
       "python\n",
       "for author in {book.get(\"author\") for book in books if book.get(\"author\")}: \n",
       "    yield author\n",
       "\n",
       "\n",
       "---\n",
       "\n",
       "### ✅ Summary:\n",
       "This line of code:\n",
       "1. Goes through each book in a list of books.\n",
       "2. Gets the author name from each book.\n",
       "3. Filters out books with no author.\n",
       "4. Collects unique author names in a set.\n",
       "5. Uses `yield from` to **yield each unique author name one at a time**, as a generator.\n",
       "\n",
       "---\n",
       "\n",
       "### 🌟 Use Case:\n",
       "This is typically used in situations where you need to iterate over **unique author names** from a list of books, and you want to process each name individually — for example, sending them to an API, printing them, or building a list."
      ],
      "text/plain": [
       "<IPython.core.display.Markdown object>"
      ]
     },
     "metadata": {},
     "output_type": "display_data"
    },
    {
     "data": {
      "text/plain": [
       "'# OLLAMA\\n\\n<think>\\n\\n</think>\\n\\nSure! Let\\'s take a look at this Python code:\\n\\npython\\nyield from {book.get(\"author\") for book in books if book.get(\"author\")}\\n\\n\\n### ✅ Step-by-step explanation:\\n\\n---\\n\\n### 1. **`books` is a list of dictionaries**  \\nAssume `books` is a list of book dictionaries, like this:\\n\\npython\\nbooks = [\\n    {\"title\": \"Book 1\", \"author\": \"Author A\"},\\n    {\"title\": \"Book 2\", \"author\": \"Author B\"},\\n    {\"title\": \"Book 3\", \"author\": \"Author A\"},\\n    {\"title\": \"Book 4\", \"author\": None},  # This book has no author\\n]\\n\\n\\n---\\n\\n### 2. **`book.get(\"author\")`**  \\nThis is a dictionary method that retrieves the value associated with the key `\"author\"` in each book dictionary. If the key doesn\\'t exist or the value is `None`, `get` returns `None` by default.\\n\\nSo, for each book in `books`, this line gets the author.\\n\\n---\\n\\n### 3. **`if book.get(\"author\")`**  \\nThis is a conditional that ensures we only include authors who are **not** `None`. So, books without an author (like the fourth one in our example) are **filtered out**.\\n\\nSo, we\\'re only considering books that have a valid author.\\n\\n---\\n\\n### 4. **`{book.get(\"author\") for book in books if book.get(\"author\")}`**  \\nThis is a **set comprehension**. It builds a **set** of author names. A set is a collection that doesn\\'t allow duplicates. So, if multiple books share the same author, they will appear only once in the set.\\n\\nThis line is doing:\\n- Iterate through each book in `books`\\n- For each book, get the author\\n- Filter out books with no author\\n- Collect the unique author names in a set\\n\\nExample result from the `books` list above:\\npython\\n{\"Author A\", \"Author B\"}\\n\\n\\n---\\n\\n### 5. **`yield from`**  \\nThis is a generator expression. The `yield from` syntax is used to **delegate iteration**. It allows the outer loop or function to yield values from the inner generator.\\n\\nIn this context, the `yield from` is used to **iterate over the set of unique authors** and **yield each one** as a result.\\n\\nSo, the full line:\\n\\npython\\nyield from {book.get(\"author\") for book in books if book.get(\"author\")}\\n\\n\\nis equivalent to:\\n\\npython\\nfor author in {book.get(\"author\") for book in books if book.get(\"author\")}: \\n    yield author\\n\\n\\n---\\n\\n### ✅ Summary:\\nThis line of code:\\n1. Goes through each book in a list of books.\\n2. Gets the author name from each book.\\n3. Filters out books with no author.\\n4. Collects unique author names in a set.\\n5. Uses `yield from` to **yield each unique author name one at a time**, as a generator.\\n\\n---\\n\\n### 🌟 Use Case:\\nThis is typically used in situations where you need to iterate over **unique author names** from a list of books, and you want to process each name individually — for example, sending them to an API, printing them, or building a list.'"
      ]
     },
     "execution_count": 47,
     "metadata": {},
     "output_type": "execute_result"
    }
   ],
   "source": [
    "# ask_gpt(question)\n",
    "ask_ollama(question)"
   ]
  }
 ],
 "metadata": {
  "kernelspec": {
   "display_name": "Python 3 (ipykernel)",
   "language": "python",
   "name": "python3"
  },
  "language_info": {
   "codemirror_mode": {
    "name": "ipython",
    "version": 3
   },
   "file_extension": ".py",
   "mimetype": "text/x-python",
   "name": "python",
   "nbconvert_exporter": "python",
   "pygments_lexer": "ipython3",
   "version": "3.12.2"
  }
 },
 "nbformat": 4,
 "nbformat_minor": 5
}
