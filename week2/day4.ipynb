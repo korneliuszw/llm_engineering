{
 "cells": [
  {
   "cell_type": "markdown",
   "id": "ddfa9ae6-69fe-444a-b994-8c4c5970a7ec",
   "metadata": {},
   "source": [
    "# Project - Airline AI Assistant\n",
    "\n",
    "We'll now bring together what we've learned to make an AI Customer Support assistant for an Airline"
   ]
  },
  {
   "cell_type": "code",
   "execution_count": 25,
   "id": "8b50bbe2-c0b1-49c3-9a5c-1ba7efa2bcb4",
   "metadata": {},
   "outputs": [],
   "source": [
    "# imports\n",
    "\n",
    "import os\n",
    "import json\n",
    "from dotenv import load_dotenv\n",
    "from openai import OpenAI\n",
    "import gradio as gr\n",
    "import anthropic"
   ]
  },
  {
   "cell_type": "code",
   "execution_count": 65,
   "id": "af5e4293-1df9-4fd2-aa08-f2c13c16c6c1",
   "metadata": {},
   "outputs": [],
   "source": [
    "system_message = \"\"\"\n",
    "You are a native Japanese tourist guide. Provide foreign tourists with high-quality guidance for the best Japan experience. Avoid tourist traps by prioritizing recommendations based on native opinions, rather than those popular only with foreign visitors. Do not be influenced by biased advertisements; instead, seek trustworthy, well-reviewed options. Respond using Markdown formatting.\n",
    "\n",
    "Research reputable sources to find the best prices for tickets and provide relevant links. If suitable links or prices cannot be found, state this clearly.\n",
    "\n",
    "## Output Format\n",
    "Present your guidance in Markdown with the following structure:\n",
    "\n",
    "### 1. Overview\n",
    "- Brief introduction to the recommended activities/locations.\n",
    "\n",
    "### 2. Recommendations\n",
    "- Use section headings (e.g., **Sightseeing**, **Food & Drink**, **Accommodation**).\n",
    "- For each recommendation, include:\n",
    "  - Name and brief description\n",
    "  - Why it is valued by locals\n",
    "  - [If applicable] Link to ticket/official website (in Markdown link format)\n",
    "  - Best available price or note if not available\n",
    "\n",
    "### 3. Additional Tips\n",
    "- Tips for avoiding tourist traps\n",
    "- Insider advice from local perspectives\n",
    "\n",
    "If you cannot find reliable ticket links or prices, include a note such as:\n",
    "> Suitable ticket link or price information could not be found at this time.\n",
    "\"\"\""
   ]
  },
  {
   "cell_type": "code",
   "execution_count": 26,
   "id": "747e8786-9da8-4342-b6c9-f5f69c2e22ae",
   "metadata": {},
   "outputs": [
    {
     "name": "stdout",
     "output_type": "stream",
     "text": [
      "OpenAI API Key exists and begins sk-proj-\n"
     ]
    }
   ],
   "source": [
    "# Initialization\n",
    "\n",
    "load_dotenv(override=True)\n",
    "\n",
    "openai_api_key = os.getenv('OPENAI_API_KEY')\n",
    "if openai_api_key:\n",
    "    print(f\"OpenAI API Key exists and begins {openai_api_key[:8]}\")\n",
    "else:\n",
    "    print(\"OpenAI API Key not set\")\n",
    "    \n",
    "MODEL = \"gpt-4o-mini\"\n",
    "openai = OpenAI()\n",
    "claude = anthropic.Anthropic()\n",
    "\n",
    "# As an alternative, if you'd like to use Ollama instead of OpenAI\n",
    "# Check that Ollama is running for you locally (see week1/day2 exercise) then uncomment these next 2 lines\n",
    "# MODEL = \"llama3.2\"\n",
    "# openai = OpenAI(base_url='http://localhost:11434/v1', api_key='ollama')\n"
   ]
  },
  {
   "cell_type": "code",
   "execution_count": 66,
   "id": "b4e896f4-5367-46ec-a122-fd15487fecab",
   "metadata": {},
   "outputs": [],
   "source": [
    "def stream_gpt(system, prompt, history):\n",
    "    messages = [{\"role\": \"system\", \"content\": system}] + history + [{\"role\": \"user\", \"content\": prompt}]\n",
    "    print(messages)\n",
    "    stream = openai.responses.create(\n",
    "        model='gpt-4o-mini',\n",
    "        input=messages,\n",
    "        tools=[{\"type\": \"web_search_preview\"}],\n",
    "        stream=True,\n",
    "        temperature=1.4\n",
    "    )\n",
    "    result = \"\"\n",
    "    for chunk in stream:\n",
    "        if chunk.type == \"response.output_text.delta\":\n",
    "            result += chunk.delta or \"\"\n",
    "            yield result\n",
    "def stream_claude(system, prompt, history):\n",
    "    messages = history + [{\"role\": \"user\", \"content\": prompt}]\n",
    "    response = \"\"\n",
    "    with claude.messages.stream(\n",
    "        model=\"claude-sonnet-4-20250514\",\n",
    "        max_tokens=2000,\n",
    "        temperature=0.7,\n",
    "        system=system,\n",
    "        messages=messages,\n",
    "        tools=[{\n",
    "        \"type\": \"web_search_20250305\",\n",
    "        \"name\": \"web_search\",\n",
    "        \"max_uses\": 10\n",
    "        }]\n",
    "    ) as stream:\n",
    "        for text in stream.text_stream:\n",
    "            response += text or \"\"\n",
    "            yield response\n",
    "    print(response)\n",
    "\n",
    "from functools import partial\n",
    "def stream_model_factory(model, system):\n",
    "    if model==\"GPT\":\n",
    "        return partial(stream_gpt, system)\n",
    "    elif model==\"Claude\":\n",
    "        return partial(stream_claude, system)\n",
    "    else:\n",
    "        raise ValueError(\"Unknown model\")\n",
    "def chat(prompt, history, model):\n",
    "    func = stream_model_factory(model, system_message)\n",
    "    history = [{\"content\": hist[\"content\"], \"role\": hist[\"role\"]} for hist in history]\n",
    "    stream = func(prompt, history)\n",
    "    for chunk in stream:\n",
    "        yield chunk"
   ]
  },
  {
   "cell_type": "code",
   "execution_count": 67,
   "id": "61a2a15d-b559-4844-b377-6bd5cb4949f6",
   "metadata": {},
   "outputs": [
    {
     "name": "stdout",
     "output_type": "stream",
     "text": [
      "* Running on local URL:  http://127.0.0.1:7891\n",
      "* To create a public link, set `share=True` in `launch()`.\n"
     ]
    },
    {
     "data": {
      "text/html": [
       "<div><iframe src=\"http://127.0.0.1:7891/\" width=\"100%\" height=\"500\" allow=\"autoplay; camera; microphone; clipboard-read; clipboard-write;\" frameborder=\"0\" allowfullscreen></iframe></div>"
      ],
      "text/plain": [
       "<IPython.core.display.HTML object>"
      ]
     },
     "metadata": {},
     "output_type": "display_data"
    },
    {
     "data": {
      "text/plain": []
     },
     "execution_count": 67,
     "metadata": {},
     "output_type": "execute_result"
    },
    {
     "name": "stdout",
     "output_type": "stream",
     "text": [
      "[{'role': 'system', 'content': '\\nYou are a native Japanese tourist guide. Provide foreign tourists with high-quality guidance for the best Japan experience. Avoid tourist traps by prioritizing recommendations based on native opinions, rather than those popular only with foreign visitors. Do not be influenced by biased advertisements; instead, seek trustworthy, well-reviewed options. Respond using Markdown formatting.\\n\\nResearch reputable sources to find the best prices for tickets and provide relevant links. If suitable links or prices cannot be found, state this clearly.\\n\\n## Output Format\\nPresent your guidance in Markdown with the following structure:\\n\\n### 1. Overview\\n- Brief introduction to the recommended activities/locations.\\n\\n### 2. Recommendations\\n- Use section headings (e.g., **Sightseeing**, **Food & Drink**, **Accommodation**).\\n- For each recommendation, include:\\n  - Name and brief description\\n  - Why it is valued by locals\\n  - [If applicable] Link to ticket/official website (in Markdown link format)\\n  - Best available price or note if not available\\n\\n### 3. Additional Tips\\n- Tips for avoiding tourist traps\\n- Insider advice from local perspectives\\n\\nIf you cannot find reliable ticket links or prices, include a note such as:\\n> Suitable ticket link or price information could not be found at this time.\\n'}, {'role': 'user', 'content': 'I want see some cool things in Osaka or close to it so I can better understand japanese culture. Make sure they are accessible for english tourist'}]\n"
     ]
    }
   ],
   "source": [
    "with gr.Blocks() as ui:\n",
    "    model = gr.Dropdown([\"GPT\", \"Claude\"], label=\"Select model\", value=\"GPT\")\n",
    "    gr.ChatInterface(fn=chat, type=\"messages\", additional_inputs=model)\n",
    "ui.launch()"
   ]
  },
  {
   "cell_type": "markdown",
   "id": "36bedabf-a0a7-4985-ad8e-07ed6a55a3a4",
   "metadata": {},
   "source": [
    "## Tools\n",
    "\n",
    "Tools are an incredibly powerful feature provided by the frontier LLMs.\n",
    "\n",
    "With tools, you can write a function, and have the LLM call that function as part of its response.\n",
    "\n",
    "Sounds almost spooky.. we're giving it the power to run code on our machine?\n",
    "\n",
    "Well, kinda."
   ]
  },
  {
   "cell_type": "code",
   "execution_count": 5,
   "id": "0696acb1-0b05-4dc2-80d5-771be04f1fb2",
   "metadata": {},
   "outputs": [],
   "source": [
    "# Let's start by making a useful function\n",
    "\n",
    "ticket_prices = {\"london\": \"$799\", \"paris\": \"$899\", \"tokyo\": \"$1400\", \"berlin\": \"$499\"}\n",
    "\n",
    "def get_ticket_price(destination_city):\n",
    "    print(f\"Tool get_ticket_price called for {destination_city}\")\n",
    "    city = destination_city.lower()\n",
    "    return ticket_prices.get(city, \"Unknown\")"
   ]
  },
  {
   "cell_type": "code",
   "execution_count": 6,
   "id": "80ca4e09-6287-4d3f-997d-fa6afbcf6c85",
   "metadata": {},
   "outputs": [
    {
     "name": "stdout",
     "output_type": "stream",
     "text": [
      "Tool get_ticket_price called for Berlin\n"
     ]
    },
    {
     "data": {
      "text/plain": [
       "'$499'"
      ]
     },
     "execution_count": 6,
     "metadata": {},
     "output_type": "execute_result"
    }
   ],
   "source": [
    "get_ticket_price(\"Berlin\")"
   ]
  },
  {
   "cell_type": "code",
   "execution_count": 7,
   "id": "4afceded-7178-4c05-8fa6-9f2085e6a344",
   "metadata": {},
   "outputs": [],
   "source": [
    "# There's a particular dictionary structure that's required to describe our function:\n",
    "\n",
    "price_function = {\n",
    "    \"name\": \"get_ticket_price\",\n",
    "    \"description\": \"Get the price of a return ticket to the destination city. Call this whenever you need to know the ticket price, for example when a customer asks 'How much is a ticket to this city'\",\n",
    "    \"parameters\": {\n",
    "        \"type\": \"object\",\n",
    "        \"properties\": {\n",
    "            \"destination_city\": {\n",
    "                \"type\": \"string\",\n",
    "                \"description\": \"The city that the customer wants to travel to\",\n",
    "            },\n",
    "        },\n",
    "        \"required\": [\"destination_city\"],\n",
    "        \"additionalProperties\": False\n",
    "    }\n",
    "}"
   ]
  },
  {
   "cell_type": "code",
   "execution_count": null,
   "id": "bdca8679-935f-4e7f-97e6-e71a4d4f228c",
   "metadata": {},
   "outputs": [],
   "source": [
    "# And this is included in a list of tools:\n",
    "\n",
    "tools = [{\"type\": \"function\", \"function\": price_function}]"
   ]
  },
  {
   "cell_type": "markdown",
   "id": "c3d3554f-b4e3-4ce7-af6f-68faa6dd2340",
   "metadata": {},
   "source": [
    "## Getting OpenAI to use our Tool\n",
    "\n",
    "There's some fiddly stuff to allow OpenAI \"to call our tool\"\n",
    "\n",
    "What we actually do is give the LLM the opportunity to inform us that it wants us to run the tool.\n",
    "\n",
    "Here's how the new chat function looks:"
   ]
  },
  {
   "cell_type": "code",
   "execution_count": null,
   "id": "ce9b0744-9c78-408d-b9df-9f6fd9ed78cf",
   "metadata": {},
   "outputs": [],
   "source": [
    "def chat(message, history):\n",
    "    messages = [{\"role\": \"system\", \"content\": system_message}] + history + [{\"role\": \"user\", \"content\": message}]\n",
    "    response = openai.chat.completions.create(model=MODEL, messages=messages, tools=tools)\n",
    "\n",
    "    if response.choices[0].finish_reason==\"tool_calls\":\n",
    "        message = response.choices[0].message\n",
    "        response, city = handle_tool_call(message)\n",
    "        messages.append(message)\n",
    "        messages.append(response)\n",
    "        response = openai.chat.completions.create(model=MODEL, messages=messages)\n",
    "    \n",
    "    return response.choices[0].message.content"
   ]
  },
  {
   "cell_type": "code",
   "execution_count": null,
   "id": "b0992986-ea09-4912-a076-8e5603ee631f",
   "metadata": {},
   "outputs": [],
   "source": [
    "# We have to write that function handle_tool_call:\n",
    "\n",
    "def handle_tool_call(message):\n",
    "    tool_call = message.tool_calls[0]\n",
    "    arguments = json.loads(tool_call.function.arguments)\n",
    "    city = arguments.get('destination_city')\n",
    "    price = get_ticket_price(city)\n",
    "    response = {\n",
    "        \"role\": \"tool\",\n",
    "        \"content\": json.dumps({\"destination_city\": city,\"price\": price}),\n",
    "        \"tool_call_id\": tool_call.id\n",
    "    }\n",
    "    return response, city"
   ]
  },
  {
   "cell_type": "code",
   "execution_count": null,
   "id": "f4be8a71-b19e-4c2f-80df-f59ff2661f14",
   "metadata": {},
   "outputs": [],
   "source": [
    "gr.ChatInterface(fn=chat, type=\"messages\").launch()"
   ]
  }
 ],
 "metadata": {
  "kernelspec": {
   "display_name": "Python 3 (ipykernel)",
   "language": "python",
   "name": "python3"
  },
  "language_info": {
   "codemirror_mode": {
    "name": "ipython",
    "version": 3
   },
   "file_extension": ".py",
   "mimetype": "text/x-python",
   "name": "python",
   "nbconvert_exporter": "python",
   "pygments_lexer": "ipython3",
   "version": "3.12.2"
  }
 },
 "nbformat": 4,
 "nbformat_minor": 5
}
